{
 "cells": [
  {
   "cell_type": "code",
   "execution_count": 1,
   "metadata": {
    "collapsed": true
   },
   "outputs": [],
   "source": [
    "import matplotlib.image as mpimg\n",
    "import matplotlib.pyplot as plt\n",
    "import numpy as np\n",
    "import cv2\n",
    "import glob\n",
    "import time\n",
    "import itertools\n",
    "from sklearn.svm import LinearSVC\n",
    "from sklearn.preprocessing import StandardScaler\n",
    "from sklearn.model_selection import train_test_split\n",
    "from skimage.feature import hog\n",
    "import pickle\n",
    "%matplotlib inline"
   ]
  },
  {
   "cell_type": "code",
   "execution_count": 2,
   "metadata": {
    "collapsed": true
   },
   "outputs": [],
   "source": [
    "# Read in car and no car images\n",
    "car_images = glob.glob('./image_set/vehicles/*.png')\n",
    "no_car_images = glob.glob('./image_set/non-vehicles/*.png')\n",
    "cars = []\n",
    "notcars = []\n",
    "\n",
    "for image in car_images:\n",
    "    cars.append(image)\n",
    "for image in no_car_images:\n",
    "    notcars.append(image)"
   ]
  },
  {
   "cell_type": "code",
   "execution_count": 3,
   "metadata": {
    "collapsed": true
   },
   "outputs": [],
   "source": [
    "# Define a function to return HOG features and visualization\n",
    "def get_hog_features(img, orient, pix_per_cell, cell_per_block, vis=False, feature_vec=True):\n",
    "    # Call with two outputs if vis==True\n",
    "    if vis == True:\n",
    "        features, hog_image = hog(img, orientations=orient, pixels_per_cell=(pix_per_cell, pix_per_cell),\n",
    "                                  cells_per_block=(cell_per_block, cell_per_block), transform_sqrt=True, \n",
    "                                  visualise=vis, feature_vector=feature_vec)\n",
    "        return features, hog_image\n",
    "    # Otherwise call with one output\n",
    "    else:      \n",
    "        features = hog(img, orientations=orient, pixels_per_cell=(pix_per_cell, pix_per_cell),\n",
    "                       cells_per_block=(cell_per_block, cell_per_block), transform_sqrt=True, \n",
    "                       visualise=vis, feature_vector=feature_vec)\n",
    "        return features"
   ]
  },
  {
   "cell_type": "code",
   "execution_count": 4,
   "metadata": {
    "collapsed": false
   },
   "outputs": [],
   "source": [
    "# Define a function to extract features from a list of images\n",
    "def extract_features(imgs, cspace='BGR', orient=9, pix_per_cell=8, cell_per_block=2, hog_channel=0):\n",
    "    # Create a list to append feature vectors to\n",
    "    features = []\n",
    "    # Iterate through the list of images\n",
    "    for file in imgs:\n",
    "        # Read in each one by one\n",
    "        # Using cv2 for consistency. it reads as BGR!!!\n",
    "        image = cv2.imread(file)\n",
    "        if cspace != 'BGR':\n",
    "            if cspace == 'HSV':\n",
    "                feature_image = cv2.cvtColor(image, cv2.COLOR_BGR2HSV)\n",
    "            elif cspace == 'LUV':\n",
    "                feature_image = cv2.cvtColor(image, cv2.COLOR_BGR2LUV)\n",
    "            elif cspace == 'HLS':\n",
    "                feature_image = cv2.cvtColor(image, cv2.COLOR_BGR2HLS)\n",
    "            elif cspace == 'YUV':\n",
    "                feature_image = cv2.cvtColor(image, cv2.COLOR_BGR2YUV)\n",
    "            elif cspace == 'YCrCb':\n",
    "                feature_image = cv2.cvtColor(image, cv2.COLOR_BGR2YCrCb)\n",
    "        else: feature_image = np.copy(image)      \n",
    "\n",
    "        # Call get_hog_features() with vis=False, feature_vec=True\n",
    "        if hog_channel == 'ALL':\n",
    "            hog_features = []\n",
    "            for channel in range(feature_image.shape[2]):\n",
    "                hog_features.append(get_hog_features(feature_image[:,:,channel], \n",
    "                                    orient, pix_per_cell, cell_per_block, \n",
    "                                    vis=False, feature_vec=True))\n",
    "            hog_features = np.ravel(hog_features)        \n",
    "        else:\n",
    "            hog_features = get_hog_features(feature_image[:,:,hog_channel], orient, \n",
    "                        pix_per_cell, cell_per_block, vis=False, feature_vec=True)\n",
    "        # Append the new feature vector to the features list\n",
    "        features.append(hog_features)\n",
    "    # Return list of feature vectors\n",
    "    return features"
   ]
  },
  {
   "cell_type": "code",
   "execution_count": 5,
   "metadata": {
    "collapsed": true
   },
   "outputs": [],
   "source": [
    "# Let's do a systematic search of the parameters that affect the classifier.\n",
    "n = 4\n",
    "orient_grid = np.linspace(8, 12, n).astype(int)\n",
    "cell_grid = np.linspace(1, 4, n).astype(int)\n",
    "pix_grid = np.linspace(6, 12, n).astype(int)\n",
    "colors = ['BGR', 'HSV', 'HLS', 'LUV', 'YUV', 'YCrCb']\n",
    "chan_grid = [0, 1, 2, 'ALL']"
   ]
  },
  {
   "cell_type": "code",
   "execution_count": 6,
   "metadata": {
    "collapsed": true
   },
   "outputs": [],
   "source": [
    "def svm_car_classifier(cars, notcars, orient=9, pix_per_cell=8, cell_per_block=2,\n",
    "                       hog_channel=0, colorspace='BGR', seed=np.random.randint(0, 100)):\n",
    "    ''' Takes in a list of files representing car and no car images together with parametes for\n",
    "    feature straction. Returns the fitted model and its score\n",
    "    '''\n",
    "    print('Using:',orient,'orientations',pix_per_cell, 'pixels per cell and',\n",
    "          cell_per_block,'cells per block', 'in channel', hog_channel, 'with colorspace', colorspace)\n",
    "    car_features = extract_features(cars, cspace=colorspace, orient=orient, \n",
    "                        pix_per_cell=pix_per_cell, cell_per_block=cell_per_block, \n",
    "                        hog_channel=hog_channel)\n",
    "    notcar_features = extract_features(notcars, cspace=colorspace, orient=orient, \n",
    "                        pix_per_cell=pix_per_cell, cell_per_block=cell_per_block, \n",
    "                        hog_channel=hog_channel)\n",
    "    # Create an array stack of feature vectors\n",
    "    X = np.vstack((car_features, notcar_features)).astype(np.float64)                        \n",
    "    # Fit a per-column scaler\n",
    "    X_scaler = StandardScaler().fit(X)\n",
    "    # Apply the scaler to X\n",
    "    scaled_X = X_scaler.transform(X)\n",
    "\n",
    "    # Define the labels vector\n",
    "    y = np.hstack((np.ones(len(car_features)), np.zeros(len(notcar_features))))\n",
    "    # Split up data into randomized training and test sets\n",
    "    X_train, X_test, y_train, y_test = train_test_split(scaled_X, y, test_size=0.2, random_state=seed)\n",
    "    # Use a linear SVC \n",
    "    svc = LinearSVC()\n",
    "    svc.fit(X_train, y_train)\n",
    "    # Check the score of the SVC\n",
    "    score = svc.score(X_test, y_test)\n",
    "    print('Test Accuracy of SVC = ', round(score, 4))\n",
    "    return svc, score"
   ]
  },
  {
   "cell_type": "code",
   "execution_count": 7,
   "metadata": {
    "collapsed": false,
    "scrolled": true
   },
   "outputs": [
    {
     "name": "stdout",
     "output_type": "stream",
     "text": [
      "Using: 9 orientations 10 pixels per cell and 3 cells per block in channel ALL with colorspace BGR\n",
      "Test Accuracy of SVC =  0.9533\n",
      "Using: 9 orientations 10 pixels per cell and 3 cells per block in channel ALL with colorspace HSV\n",
      "Test Accuracy of SVC =  0.9794\n",
      "Using: 9 orientations 10 pixels per cell and 3 cells per block in channel ALL with colorspace HLS\n",
      "Test Accuracy of SVC =  0.9794\n",
      "Using: 9 orientations 10 pixels per cell and 3 cells per block in channel ALL with colorspace LUV\n",
      "Test Accuracy of SVC =  0.9811\n",
      "Using: 9 orientations 10 pixels per cell and 3 cells per block in channel ALL with colorspace YUV\n",
      "Test Accuracy of SVC =  0.9834\n",
      "Using: 9 orientations 10 pixels per cell and 3 cells per block in channel ALL with colorspace YCrCb\n",
      "Test Accuracy of SVC =  0.9848\n"
     ]
    }
   ],
   "source": [
    "# Search for the best color space\n",
    "performance_color = []\n",
    "models_color = []\n",
    "orit = orient_grid[1]\n",
    "pix = pix_grid[2]\n",
    "cha = 'ALL'\n",
    "cell = cell_grid[2]\n",
    "for col in colors:\n",
    "    # Call the classifier with a constant seed\n",
    "    m, p = svm_car_classifier(cars, notcars, orient=orit, pix_per_cell=pix, cell_per_block=cell,\n",
    "                       hog_channel=cha, colorspace=col, seed=3)\n",
    "    models_color.append(m)\n",
    "    performance_color.append(p)\n",
    "    file_name = '-'.join((col, '_cell_{:d}'.format(cell),'pix{:d}'.format(pix),\n",
    "                          'orient{:d}'.format(orit), 'channel'+str(cha)))\n",
    "    file_name = '.'.join((file_name, 'pickle'))\n",
    "    pickle.dump(m, open('./svm/' + file_name, 'wb'))"
   ]
  },
  {
   "cell_type": "code",
   "execution_count": 8,
   "metadata": {
    "collapsed": false
   },
   "outputs": [
    {
     "name": "stdout",
     "output_type": "stream",
     "text": [
      "Using: 9 orientations 10 pixels per cell and 1 cells per block in channel ALL with colorspace YCrCb\n",
      "Test Accuracy of SVC =  0.9758\n",
      "Using: 9 orientations 10 pixels per cell and 2 cells per block in channel ALL with colorspace YCrCb\n",
      "Test Accuracy of SVC =  0.9851\n",
      "Using: 9 orientations 10 pixels per cell and 3 cells per block in channel ALL with colorspace YCrCb\n",
      "Test Accuracy of SVC =  0.9848\n",
      "Using: 9 orientations 10 pixels per cell and 4 cells per block in channel ALL with colorspace YCrCb\n",
      "Test Accuracy of SVC =  0.9806\n"
     ]
    }
   ],
   "source": [
    "# Search for the best cells per block\n",
    "# We fix the color space to the best already found\n",
    "col = sorted(zip(performance_color, colors))[-1][1]\n",
    "\n",
    "performance_cell = []\n",
    "models_cell = []\n",
    "orit = orient_grid[1]\n",
    "pix = pix_grid[2]\n",
    "cha = 'ALL'\n",
    "for cell in cell_grid:\n",
    "    # Call the classifier with a constant seed\n",
    "    m, p = svm_car_classifier(cars, notcars, orient=orit, pix_per_cell=pix, cell_per_block=cell,\n",
    "                       hog_channel=cha, colorspace=col, seed=3)\n",
    "    models_cell.append(m)\n",
    "    performance_cell.append(p)\n",
    "    file_name = '-'.join((col, '_cell_{:d}'.format(cell),'pix{:d}'.format(pix),\n",
    "                          'orient{:d}'.format(orit), 'channel'+str(cha)))\n",
    "    file_name = '.'.join((file_name, 'pickle'))\n",
    "    pickle.dump(m, open('./svm/' + file_name, 'wb'))"
   ]
  },
  {
   "cell_type": "code",
   "execution_count": 9,
   "metadata": {
    "collapsed": false,
    "scrolled": true
   },
   "outputs": [
    {
     "name": "stdout",
     "output_type": "stream",
     "text": [
      "Using: 8 orientations 10 pixels per cell and 2 cells per block in channel ALL with colorspace YCrCb\n",
      "Test Accuracy of SVC =  0.9851\n",
      "Using: 9 orientations 10 pixels per cell and 2 cells per block in channel ALL with colorspace YCrCb\n",
      "Test Accuracy of SVC =  0.9848\n",
      "Using: 10 orientations 10 pixels per cell and 2 cells per block in channel ALL with colorspace YCrCb\n",
      "Test Accuracy of SVC =  0.9868\n",
      "Using: 12 orientations 10 pixels per cell and 2 cells per block in channel ALL with colorspace YCrCb\n",
      "Test Accuracy of SVC =  0.9868\n"
     ]
    }
   ],
   "source": [
    "# Search for the best number of orientations\n",
    "# We also fix the cells per block already found\n",
    "cell = sorted(zip(performance_cell, cell_grid))[-1][1]\n",
    "\n",
    "performance_orient = []\n",
    "models_orient = []\n",
    "pix = pix_grid[2]\n",
    "cha = 'ALL'\n",
    "for orit in orient_grid:\n",
    "    # Call the classifier with a constant seed\n",
    "    m, p = svm_car_classifier(cars, notcars, orient=orit, pix_per_cell=pix, cell_per_block=cell,\n",
    "                       hog_channel=cha, colorspace=col, seed=3)\n",
    "    models_orient.append(m)\n",
    "    performance_orient.append(p)\n",
    "    file_name = '-'.join((col, '_cell_{:d}'.format(cell),'pix{:d}'.format(pix),\n",
    "                          'orient{:d}'.format(orit), 'channel'+str(cha)))\n",
    "    file_name = '.'.join((file_name, 'pickle'))\n",
    "    pickle.dump(m, open('./svm/' + file_name, 'wb'))"
   ]
  },
  {
   "cell_type": "code",
   "execution_count": 13,
   "metadata": {
    "collapsed": false
   },
   "outputs": [
    {
     "name": "stdout",
     "output_type": "stream",
     "text": [
      "Using: 10 orientations 6 pixels per cell and 2 cells per block in channel ALL with colorspace YCrCb\n",
      "Test Accuracy of SVC =  0.9885\n",
      "Using: 10 orientations 8 pixels per cell and 2 cells per block in channel ALL with colorspace YCrCb\n",
      "Test Accuracy of SVC =  0.9885\n",
      "Using: 10 orientations 10 pixels per cell and 2 cells per block in channel ALL with colorspace YCrCb\n",
      "Test Accuracy of SVC =  0.9868\n",
      "Using: 10 orientations 12 pixels per cell and 2 cells per block in channel ALL with colorspace YCrCb\n",
      "Test Accuracy of SVC =  0.9865\n"
     ]
    }
   ],
   "source": [
    "# Search for the best number of pixels per cell\n",
    "# We fix the orientations found\n",
    "orit = sorted(zip(performance_orient, orient_grid))[-1][1]\n",
    "# There is a tie so we use the one with less features\n",
    "orit = 10\n",
    "\n",
    "performance_pix = []\n",
    "models_pix = []\n",
    "cha = 'ALL'\n",
    "\n",
    "for pix in pix_grid:\n",
    "    # Call the classifier with a constant seed\n",
    "    m, p = svm_car_classifier(cars, notcars, orient=orit, pix_per_cell=pix, cell_per_block=cell,\n",
    "                       hog_channel=cha, colorspace=col, seed=3)\n",
    "    models_pix.append(m)\n",
    "    performance_pix.append(p)\n",
    "    file_name = '-'.join((col, '_cell_{:d}'.format(cell),'pix{:d}'.format(pix),\n",
    "                          'orient{:d}'.format(orit), 'channel'+str(cha)))\n",
    "    file_name = '.'.join((file_name, 'pickle'))\n",
    "    pickle.dump(m, open('./svm/' + file_name, 'wb'))"
   ]
  },
  {
   "cell_type": "code",
   "execution_count": 14,
   "metadata": {
    "collapsed": false
   },
   "outputs": [
    {
     "name": "stdout",
     "output_type": "stream",
     "text": [
      "Using: 10 orientations 8 pixels per cell and 2 cells per block in channel 0 with colorspace YCrCb\n",
      "Test Accuracy of SVC =  0.9482\n",
      "Using: 10 orientations 8 pixels per cell and 2 cells per block in channel 1 with colorspace YCrCb\n",
      "Test Accuracy of SVC =  0.9324\n",
      "Using: 10 orientations 8 pixels per cell and 2 cells per block in channel 2 with colorspace YCrCb\n",
      "Test Accuracy of SVC =  0.9136\n",
      "Using: 10 orientations 8 pixels per cell and 2 cells per block in channel ALL with colorspace YCrCb\n",
      "Test Accuracy of SVC =  0.9885\n"
     ]
    }
   ],
   "source": [
    "# Search for the best combination of channels\n",
    "# We fix the number of pixels per cell found\n",
    "pix = sorted(zip(performance_pix, pix_grid))[-1][1]\n",
    "\n",
    "performance_cha = []\n",
    "models_cha = []\n",
    "\n",
    "for cha in chan_grid:\n",
    "    # Call the classifier with a constant seed\n",
    "    m, p = svm_car_classifier(cars, notcars, orient=orit, pix_per_cell=pix, cell_per_block=cell,\n",
    "                       hog_channel=cha, colorspace=col, seed=3)\n",
    "    models_cha.append(m)\n",
    "    performance_cha.append(p)\n",
    "    file_name = '-'.join((col, '_cell_{:d}'.format(cell),'pix{:d}'.format(pix),\n",
    "                          'orient{:d}'.format(orit), 'channel'+str(cha)))\n",
    "    file_name = '.'.join((file_name, 'pickle'))\n",
    "    pickle.dump(m, open('./svm/' + file_name, 'wb'))"
   ]
  },
  {
   "cell_type": "code",
   "execution_count": 17,
   "metadata": {
    "collapsed": false
   },
   "outputs": [
    {
     "name": "stdout",
     "output_type": "stream",
     "text": [
      "Best performace 0.988 is obtained using 10 orientations 8 pixels per cell 2 cells per block in channel ALL  of colorspace YCrCb\n"
     ]
    }
   ],
   "source": [
    "cha = sorted(zip(performance_cha, chan_grid))[-1][1]\n",
    "performance = performance_cell + performance_cha + performance_color + performance_orient + performance_pix\n",
    "print('Best performace', round(max(performance),3), 'is obtained using', orit, 'orientations',\n",
    "      pix, 'pixels per cell', cell, 'cells per block in channel', cha, ' of colorspace', col)"
   ]
  },
  {
   "cell_type": "code",
   "execution_count": null,
   "metadata": {
    "collapsed": true
   },
   "outputs": [],
   "source": []
  }
 ],
 "metadata": {
  "anaconda-cloud": {},
  "kernelspec": {
   "display_name": "Python [default]",
   "language": "python",
   "name": "python3"
  },
  "language_info": {
   "codemirror_mode": {
    "name": "ipython",
    "version": 3
   },
   "file_extension": ".py",
   "mimetype": "text/x-python",
   "name": "python",
   "nbconvert_exporter": "python",
   "pygments_lexer": "ipython3",
   "version": "3.5.2"
  }
 },
 "nbformat": 4,
 "nbformat_minor": 1
}
