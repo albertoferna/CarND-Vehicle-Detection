{
 "cells": [
  {
   "cell_type": "code",
   "execution_count": 52,
   "metadata": {
    "collapsed": true
   },
   "outputs": [],
   "source": [
    "import matplotlib.image as mpimg\n",
    "import matplotlib.pyplot as plt\n",
    "import numpy as np\n",
    "import cv2\n",
    "import glob\n",
    "import time\n",
    "import itertools\n",
    "from sklearn.svm import LinearSVC\n",
    "from sklearn.preprocessing import StandardScaler\n",
    "from sklearn.model_selection import train_test_split\n",
    "%matplotlib inline"
   ]
  },
  {
   "cell_type": "code",
   "execution_count": 2,
   "metadata": {
    "collapsed": true
   },
   "outputs": [],
   "source": [
    "# Define a function to compute binned color features  \n",
    "def bin_spatial(img, size=(32, 32)):\n",
    "    # Use cv2.resize().ravel() to create the feature vector\n",
    "    features = cv2.resize(img, size).ravel() \n",
    "    # Return the feature vector\n",
    "    return features"
   ]
  },
  {
   "cell_type": "code",
   "execution_count": 3,
   "metadata": {
    "collapsed": true
   },
   "outputs": [],
   "source": [
    "# Define a function to compute color histogram features  \n",
    "def color_hist(img, nbins=32, bins_range=(0, 256)):\n",
    "    # Compute the histogram of the color channels separately\n",
    "    channel1_hist = np.histogram(img[:,:,0], bins=nbins, range=bins_range)\n",
    "    channel2_hist = np.histogram(img[:,:,1], bins=nbins, range=bins_range)\n",
    "    channel3_hist = np.histogram(img[:,:,2], bins=nbins, range=bins_range)\n",
    "    # Concatenate the histograms into a single feature vector\n",
    "    hist_features = np.concatenate((channel1_hist[0], channel2_hist[0], channel3_hist[0]))\n",
    "    # Return the individual histograms, bin_centers and feature vector\n",
    "    return hist_features"
   ]
  },
  {
   "cell_type": "code",
   "execution_count": 4,
   "metadata": {
    "collapsed": true
   },
   "outputs": [],
   "source": [
    "# Define a function to extract features from a list of images\n",
    "# This function assumes images in list are RGB readed by cv2 as BGR\n",
    "def extract_features(imgs, cspace='BGR', spatial_size=(32, 32),\n",
    "                        hist_bins=32, hist_range=(0, 256)):\n",
    "    # Create a list to append feature vectors to\n",
    "    features = []\n",
    "    # Iterate through the list of images\n",
    "    for file in imgs:\n",
    "        # Read in each one by one. Us cv2 for consistency\n",
    "        image = mpimg.imread(file)\n",
    "        # apply color conversion if other than 'RGB'\n",
    "        if cspace != 'BGR':\n",
    "            if cspace == 'HSV':\n",
    "                feature_image = cv2.cvtColor(image, cv2.COLOR_BGR2HSV)\n",
    "            elif cspace == 'LUV':\n",
    "                feature_image = cv2.cvtColor(image, cv2.COLOR_BGR2LUV)\n",
    "            elif cspace == 'HLS':\n",
    "                feature_image = cv2.cvtColor(image, cv2.COLOR_BGR2HLS)\n",
    "            elif cspace == 'YUV':\n",
    "                feature_image = cv2.cvtColor(image, cv2.COLOR_BGR2YUV)\n",
    "        else: feature_image = np.copy(image)      \n",
    "        # Apply bin_spatial() to get spatial color features\n",
    "        spatial_features = bin_spatial(feature_image, size=spatial_size)\n",
    "        # Apply color_hist() also with a color space option now\n",
    "        hist_features = color_hist(feature_image, nbins=hist_bins, bins_range=hist_range)\n",
    "        # Append the new feature vector to the features list\n",
    "        features.append(np.concatenate((spatial_features, hist_features)))\n",
    "    # Return list of feature vectors\n",
    "    return features"
   ]
  },
  {
   "cell_type": "code",
   "execution_count": 5,
   "metadata": {
    "collapsed": true
   },
   "outputs": [],
   "source": [
    "# Read in car and no car images\n",
    "car_images = glob.glob('./image_set/vehicles/*.png')\n",
    "no_car_images = glob.glob('./image_set/non-vehicles/*.png')\n",
    "cars = []\n",
    "notcars = []\n",
    "\n",
    "for image in car_images:\n",
    "    cars.append(image)\n",
    "for image in no_car_images:\n",
    "    notcars.append(image)"
   ]
  },
  {
   "cell_type": "code",
   "execution_count": 6,
   "metadata": {
    "collapsed": true
   },
   "outputs": [],
   "source": [
    "# To optimize the performance of this classifier we need to change integer variables\n",
    "# That is a integer programming problem which is not at all trivial, it is NP hard generally.\n",
    "# A brute force approach that does not uses specialized libreries is to explore the design space as a grid\n",
    "# I define a first coarse grid to analyze with n divisions\n",
    "n = 4\n",
    "spatial_grid = np.linspace(8, 32, n).astype(int)\n",
    "histbin_grid = np.linspace(8, 32, n).astype(int)\n",
    "colors = ['BGR', 'HSV', 'LUV', 'HLS', 'YUV']"
   ]
  },
  {
   "cell_type": "code",
   "execution_count": 7,
   "metadata": {
    "collapsed": false
   },
   "outputs": [],
   "source": [
    "# We need to do on fitting of the model for each point. Since we are taking random samples for test and train\n",
    "# every point would be tested in a slightly different dataset. To account for that, ideally we would like to\n",
    "# run each evaluation several times and calculate an average. Since we are using this to compare meta parameters\n",
    "# and in order to avoid taken too much time we would evaluate with a constant train and testing sets.\n",
    "# Let's define a utility function for the model\n",
    "def svm_car_classifier(cars, notcars, spatial=32, histbin=32, cspace='BGR', seed=np.random.randint(0, 100)):\n",
    "    ''' Takes in a list of files representing car and no car images together with parametes for\n",
    "    feature straction. Returns the fitted model and its score\n",
    "    '''\n",
    "    car_features = extract_features(cars, cspace='BGR', spatial_size=(spatial, spatial),\n",
    "                                    hist_bins=histbin, hist_range=(0, 256))\n",
    "    notcar_features = extract_features(notcars, cspace='BGR', spatial_size=(spatial, spatial),\n",
    "                                    hist_bins=histbin, hist_range=(0, 256))\n",
    "\n",
    "    # Create an array stack of feature vectors\n",
    "    X = np.vstack((car_features, notcar_features)).astype(np.float64)                        \n",
    "    # Fit a per-column scaler\n",
    "    X_scaler = StandardScaler().fit(X)\n",
    "    # Apply the scaler to X\n",
    "    scaled_X = X_scaler.transform(X)\n",
    "\n",
    "    # Define the labels vector\n",
    "    y = np.hstack((np.ones(len(car_features)), np.zeros(len(notcar_features))))\n",
    "\n",
    "\n",
    "    # Split up data into randomized training and test sets\n",
    "    rand_state = np.random.randint(0, 100)\n",
    "    X_train, X_test, y_train, y_test = train_test_split(scaled_X, y, test_size=0.2, random_state=rand_state)\n",
    "\n",
    "    print('Trainning model with binning of:',spatial, 'and',\n",
    "          histbin,'histogram bins, color', c, 'Features:', len(X_train[0]))\n",
    "    # Use a linear SVC \n",
    "    svc = LinearSVC()\n",
    "    svc.fit(X_train, y_train)\n",
    "    # Check the score of the SVC\n",
    "    score = svc.score(X_test, y_test)\n",
    "    print('Test Accuracy of SVC = ', round(score, 4))\n",
    "    return svc, score"
   ]
  },
  {
   "cell_type": "code",
   "execution_count": 8,
   "metadata": {
    "collapsed": false,
    "scrolled": true
   },
   "outputs": [
    {
     "name": "stdout",
     "output_type": "stream",
     "text": [
      "Trainning model with binning of: 8 and 8 histogram bins, color BGR Features: 216\n",
      "Test Accuracy of SVC =  0.9107\n",
      "Trainning model with binning of: 8 and 16 histogram bins, color BGR Features: 240\n",
      "Test Accuracy of SVC =  0.9089\n",
      "Trainning model with binning of: 8 and 24 histogram bins, color BGR Features: 264\n",
      "Test Accuracy of SVC =  0.9161\n",
      "Trainning model with binning of: 8 and 32 histogram bins, color BGR Features: 288\n",
      "Test Accuracy of SVC =  0.9123\n",
      "Trainning model with binning of: 16 and 8 histogram bins, color BGR Features: 792\n",
      "Test Accuracy of SVC =  0.9283\n",
      "Trainning model with binning of: 16 and 16 histogram bins, color BGR Features: 816\n",
      "Test Accuracy of SVC =  0.9334\n",
      "Trainning model with binning of: 16 and 24 histogram bins, color BGR Features: 840\n",
      "Test Accuracy of SVC =  0.9101\n",
      "Trainning model with binning of: 16 and 32 histogram bins, color BGR Features: 864\n",
      "Test Accuracy of SVC =  0.9296\n",
      "Trainning model with binning of: 24 and 8 histogram bins, color BGR Features: 1752\n",
      "Test Accuracy of SVC =  0.9139\n",
      "Trainning model with binning of: 24 and 16 histogram bins, color BGR Features: 1776\n",
      "Test Accuracy of SVC =  0.9283\n",
      "Trainning model with binning of: 24 and 24 histogram bins, color BGR Features: 1800\n",
      "Test Accuracy of SVC =  0.9214\n",
      "Trainning model with binning of: 24 and 32 histogram bins, color BGR Features: 1824\n",
      "Test Accuracy of SVC =  0.9277\n",
      "Trainning model with binning of: 32 and 8 histogram bins, color BGR Features: 3096\n",
      "Test Accuracy of SVC =  0.9224\n",
      "Trainning model with binning of: 32 and 16 histogram bins, color BGR Features: 3120\n",
      "Test Accuracy of SVC =  0.9271\n",
      "Trainning model with binning of: 32 and 24 histogram bins, color BGR Features: 3144\n",
      "Test Accuracy of SVC =  0.9186\n",
      "Trainning model with binning of: 32 and 32 histogram bins, color BGR Features: 3168\n",
      "Test Accuracy of SVC =  0.9261\n",
      "Trainning model with binning of: 8 and 8 histogram bins, color HSV Features: 216\n",
      "Test Accuracy of SVC =  0.9158\n",
      "Trainning model with binning of: 8 and 16 histogram bins, color HSV Features: 240\n",
      "Test Accuracy of SVC =  0.9076\n",
      "Trainning model with binning of: 8 and 24 histogram bins, color HSV Features: 264\n",
      "Test Accuracy of SVC =  0.9076\n",
      "Trainning model with binning of: 8 and 32 histogram bins, color HSV Features: 288\n",
      "Test Accuracy of SVC =  0.9161\n",
      "Trainning model with binning of: 16 and 8 histogram bins, color HSV Features: 792\n",
      "Test Accuracy of SVC =  0.9346\n",
      "Trainning model with binning of: 16 and 16 histogram bins, color HSV Features: 816\n",
      "Test Accuracy of SVC =  0.928\n",
      "Trainning model with binning of: 16 and 24 histogram bins, color HSV Features: 840\n",
      "Test Accuracy of SVC =  0.9371\n",
      "Trainning model with binning of: 16 and 32 histogram bins, color HSV Features: 864\n",
      "Test Accuracy of SVC =  0.934\n",
      "Trainning model with binning of: 24 and 8 histogram bins, color HSV Features: 1752\n",
      "Test Accuracy of SVC =  0.9221\n",
      "Trainning model with binning of: 24 and 16 histogram bins, color HSV Features: 1776\n",
      "Test Accuracy of SVC =  0.9277\n",
      "Trainning model with binning of: 24 and 24 histogram bins, color HSV Features: 1800\n",
      "Test Accuracy of SVC =  0.9208\n",
      "Trainning model with binning of: 24 and 32 histogram bins, color HSV Features: 1824\n",
      "Test Accuracy of SVC =  0.9246\n",
      "Trainning model with binning of: 32 and 8 histogram bins, color HSV Features: 3096\n",
      "Test Accuracy of SVC =  0.9221\n",
      "Trainning model with binning of: 32 and 16 histogram bins, color HSV Features: 3120\n",
      "Test Accuracy of SVC =  0.9217\n",
      "Trainning model with binning of: 32 and 24 histogram bins, color HSV Features: 3144\n",
      "Test Accuracy of SVC =  0.928\n",
      "Trainning model with binning of: 32 and 32 histogram bins, color HSV Features: 3168\n",
      "Test Accuracy of SVC =  0.9217\n",
      "Trainning model with binning of: 8 and 8 histogram bins, color LUV Features: 216\n",
      "Test Accuracy of SVC =  0.9177\n",
      "Trainning model with binning of: 8 and 16 histogram bins, color LUV Features: 240\n",
      "Test Accuracy of SVC =  0.9151\n",
      "Trainning model with binning of: 8 and 24 histogram bins, color LUV Features: 264\n",
      "Test Accuracy of SVC =  0.917\n",
      "Trainning model with binning of: 8 and 32 histogram bins, color LUV Features: 288\n",
      "Test Accuracy of SVC =  0.912\n",
      "Trainning model with binning of: 16 and 8 histogram bins, color LUV Features: 792\n",
      "Test Accuracy of SVC =  0.934\n",
      "Trainning model with binning of: 16 and 16 histogram bins, color LUV Features: 816\n",
      "Test Accuracy of SVC =  0.9277\n",
      "Trainning model with binning of: 16 and 24 histogram bins, color LUV Features: 840\n",
      "Test Accuracy of SVC =  0.9293\n",
      "Trainning model with binning of: 16 and 32 histogram bins, color LUV Features: 864\n",
      "Test Accuracy of SVC =  0.939\n",
      "Trainning model with binning of: 24 and 8 histogram bins, color LUV Features: 1752\n",
      "Test Accuracy of SVC =  0.9246\n",
      "Trainning model with binning of: 24 and 16 histogram bins, color LUV Features: 1776\n",
      "Test Accuracy of SVC =  0.9183\n",
      "Trainning model with binning of: 24 and 24 histogram bins, color LUV Features: 1800\n",
      "Test Accuracy of SVC =  0.9148\n",
      "Trainning model with binning of: 24 and 32 histogram bins, color LUV Features: 1824\n",
      "Test Accuracy of SVC =  0.9208\n",
      "Trainning model with binning of: 32 and 8 histogram bins, color LUV Features: 3096\n",
      "Test Accuracy of SVC =  0.9302\n",
      "Trainning model with binning of: 32 and 16 histogram bins, color LUV Features: 3120\n",
      "Test Accuracy of SVC =  0.9243\n",
      "Trainning model with binning of: 32 and 24 histogram bins, color LUV Features: 3144\n",
      "Test Accuracy of SVC =  0.9199\n",
      "Trainning model with binning of: 32 and 32 histogram bins, color LUV Features: 3168\n",
      "Test Accuracy of SVC =  0.9221\n",
      "Trainning model with binning of: 8 and 8 histogram bins, color HLS Features: 216\n",
      "Test Accuracy of SVC =  0.9129\n",
      "Trainning model with binning of: 8 and 16 histogram bins, color HLS Features: 240\n",
      "Test Accuracy of SVC =  0.9155\n",
      "Trainning model with binning of: 8 and 24 histogram bins, color HLS Features: 264\n",
      "Test Accuracy of SVC =  0.9161\n",
      "Trainning model with binning of: 8 and 32 histogram bins, color HLS Features: 288\n",
      "Test Accuracy of SVC =  0.9199\n",
      "Trainning model with binning of: 16 and 8 histogram bins, color HLS Features: 792\n",
      "Test Accuracy of SVC =  0.9381\n",
      "Trainning model with binning of: 16 and 16 histogram bins, color HLS Features: 816\n",
      "Test Accuracy of SVC =  0.9236\n",
      "Trainning model with binning of: 16 and 24 histogram bins, color HLS Features: 840\n",
      "Test Accuracy of SVC =  0.9324\n",
      "Trainning model with binning of: 16 and 32 histogram bins, color HLS Features: 864\n",
      "Test Accuracy of SVC =  0.9302\n",
      "Trainning model with binning of: 24 and 8 histogram bins, color HLS Features: 1752\n",
      "Test Accuracy of SVC =  0.9312\n",
      "Trainning model with binning of: 24 and 16 histogram bins, color HLS Features: 1776\n",
      "Test Accuracy of SVC =  0.9202\n",
      "Trainning model with binning of: 24 and 24 histogram bins, color HLS Features: 1800\n",
      "Test Accuracy of SVC =  0.9246\n",
      "Trainning model with binning of: 24 and 32 histogram bins, color HLS Features: 1824\n",
      "Test Accuracy of SVC =  0.934\n",
      "Trainning model with binning of: 32 and 8 histogram bins, color HLS Features: 3096\n",
      "Test Accuracy of SVC =  0.9199\n",
      "Trainning model with binning of: 32 and 16 histogram bins, color HLS Features: 3120\n",
      "Test Accuracy of SVC =  0.9239\n",
      "Trainning model with binning of: 32 and 24 histogram bins, color HLS Features: 3144\n",
      "Test Accuracy of SVC =  0.9189\n",
      "Trainning model with binning of: 32 and 32 histogram bins, color HLS Features: 3168\n",
      "Test Accuracy of SVC =  0.9246\n",
      "Trainning model with binning of: 8 and 8 histogram bins, color YUV Features: 216\n",
      "Test Accuracy of SVC =  0.9145\n",
      "Trainning model with binning of: 8 and 16 histogram bins, color YUV Features: 240\n",
      "Test Accuracy of SVC =  0.9145\n",
      "Trainning model with binning of: 8 and 24 histogram bins, color YUV Features: 264\n",
      "Test Accuracy of SVC =  0.9189\n",
      "Trainning model with binning of: 8 and 32 histogram bins, color YUV Features: 288\n",
      "Test Accuracy of SVC =  0.9151\n",
      "Trainning model with binning of: 16 and 8 histogram bins, color YUV Features: 792\n",
      "Test Accuracy of SVC =  0.9277\n",
      "Trainning model with binning of: 16 and 16 histogram bins, color YUV Features: 816\n",
      "Test Accuracy of SVC =  0.9274\n",
      "Trainning model with binning of: 16 and 24 histogram bins, color YUV Features: 840\n",
      "Test Accuracy of SVC =  0.9283\n",
      "Trainning model with binning of: 16 and 32 histogram bins, color YUV Features: 864\n",
      "Test Accuracy of SVC =  0.9246\n",
      "Trainning model with binning of: 24 and 8 histogram bins, color YUV Features: 1752\n",
      "Test Accuracy of SVC =  0.9271\n",
      "Trainning model with binning of: 24 and 16 histogram bins, color YUV Features: 1776\n",
      "Test Accuracy of SVC =  0.9252\n",
      "Trainning model with binning of: 24 and 24 histogram bins, color YUV Features: 1800\n",
      "Test Accuracy of SVC =  0.9243\n",
      "Trainning model with binning of: 24 and 32 histogram bins, color YUV Features: 1824\n",
      "Test Accuracy of SVC =  0.9211\n",
      "Trainning model with binning of: 32 and 8 histogram bins, color YUV Features: 3096\n",
      "Test Accuracy of SVC =  0.9268\n",
      "Trainning model with binning of: 32 and 16 histogram bins, color YUV Features: 3120\n",
      "Test Accuracy of SVC =  0.9287\n",
      "Trainning model with binning of: 32 and 24 histogram bins, color YUV Features: 3144\n",
      "Test Accuracy of SVC =  0.9293\n",
      "Trainning model with binning of: 32 and 32 histogram bins, color YUV Features: 3168\n",
      "Test Accuracy of SVC =  0.9214\n"
     ]
    }
   ],
   "source": [
    "x_plot = []\n",
    "y_plot = []\n",
    "performance = []\n",
    "models = []\n",
    "for c, s, h in itertools.product(colors, spatial_grid, histbin_grid):\n",
    "    x_plot.append(s)\n",
    "    y_plot.append(h)\n",
    "    # Call the classifier with a constant seed\n",
    "    m, p = svm_car_classifier(cars, notcars, spatial=s, histbin=h, cspace=c, seed= 3)\n",
    "    models.append(m)\n",
    "    performance.append(p)"
   ]
  },
  {
   "cell_type": "code",
   "execution_count": 24,
   "metadata": {
    "collapsed": false,
    "scrolled": true
   },
   "outputs": [
    {
     "name": "stdout",
     "output_type": "stream",
     "text": [
      "Saving to disk fitted model for color channels: BGR spatial binning 8 and histogram binning 8\n",
      "Saving to disk fitted model for color channels: BGR spatial binning 8 and histogram binning 16\n",
      "Saving to disk fitted model for color channels: BGR spatial binning 8 and histogram binning 24\n",
      "Saving to disk fitted model for color channels: BGR spatial binning 8 and histogram binning 32\n",
      "Saving to disk fitted model for color channels: BGR spatial binning 16 and histogram binning 8\n",
      "Saving to disk fitted model for color channels: BGR spatial binning 16 and histogram binning 16\n",
      "Saving to disk fitted model for color channels: BGR spatial binning 16 and histogram binning 24\n",
      "Saving to disk fitted model for color channels: BGR spatial binning 16 and histogram binning 32\n",
      "Saving to disk fitted model for color channels: BGR spatial binning 24 and histogram binning 8\n",
      "Saving to disk fitted model for color channels: BGR spatial binning 24 and histogram binning 16\n",
      "Saving to disk fitted model for color channels: BGR spatial binning 24 and histogram binning 24\n",
      "Saving to disk fitted model for color channels: BGR spatial binning 24 and histogram binning 32\n",
      "Saving to disk fitted model for color channels: BGR spatial binning 32 and histogram binning 8\n",
      "Saving to disk fitted model for color channels: BGR spatial binning 32 and histogram binning 16\n",
      "Saving to disk fitted model for color channels: BGR spatial binning 32 and histogram binning 24\n",
      "Saving to disk fitted model for color channels: BGR spatial binning 32 and histogram binning 32\n",
      "Saving to disk fitted model for color channels: HSV spatial binning 8 and histogram binning 8\n",
      "Saving to disk fitted model for color channels: HSV spatial binning 8 and histogram binning 16\n",
      "Saving to disk fitted model for color channels: HSV spatial binning 8 and histogram binning 24\n",
      "Saving to disk fitted model for color channels: HSV spatial binning 8 and histogram binning 32\n",
      "Saving to disk fitted model for color channels: HSV spatial binning 16 and histogram binning 8\n",
      "Saving to disk fitted model for color channels: HSV spatial binning 16 and histogram binning 16\n",
      "Saving to disk fitted model for color channels: HSV spatial binning 16 and histogram binning 24\n",
      "Saving to disk fitted model for color channels: HSV spatial binning 16 and histogram binning 32\n",
      "Saving to disk fitted model for color channels: HSV spatial binning 24 and histogram binning 8\n",
      "Saving to disk fitted model for color channels: HSV spatial binning 24 and histogram binning 16\n",
      "Saving to disk fitted model for color channels: HSV spatial binning 24 and histogram binning 24\n",
      "Saving to disk fitted model for color channels: HSV spatial binning 24 and histogram binning 32\n",
      "Saving to disk fitted model for color channels: HSV spatial binning 32 and histogram binning 8\n",
      "Saving to disk fitted model for color channels: HSV spatial binning 32 and histogram binning 16\n",
      "Saving to disk fitted model for color channels: HSV spatial binning 32 and histogram binning 24\n",
      "Saving to disk fitted model for color channels: HSV spatial binning 32 and histogram binning 32\n",
      "Saving to disk fitted model for color channels: LUV spatial binning 8 and histogram binning 8\n",
      "Saving to disk fitted model for color channels: LUV spatial binning 8 and histogram binning 16\n",
      "Saving to disk fitted model for color channels: LUV spatial binning 8 and histogram binning 24\n",
      "Saving to disk fitted model for color channels: LUV spatial binning 8 and histogram binning 32\n",
      "Saving to disk fitted model for color channels: LUV spatial binning 16 and histogram binning 8\n",
      "Saving to disk fitted model for color channels: LUV spatial binning 16 and histogram binning 16\n",
      "Saving to disk fitted model for color channels: LUV spatial binning 16 and histogram binning 24\n",
      "Saving to disk fitted model for color channels: LUV spatial binning 16 and histogram binning 32\n",
      "Saving to disk fitted model for color channels: LUV spatial binning 24 and histogram binning 8\n",
      "Saving to disk fitted model for color channels: LUV spatial binning 24 and histogram binning 16\n",
      "Saving to disk fitted model for color channels: LUV spatial binning 24 and histogram binning 24\n",
      "Saving to disk fitted model for color channels: LUV spatial binning 24 and histogram binning 32\n",
      "Saving to disk fitted model for color channels: LUV spatial binning 32 and histogram binning 8\n",
      "Saving to disk fitted model for color channels: LUV spatial binning 32 and histogram binning 16\n",
      "Saving to disk fitted model for color channels: LUV spatial binning 32 and histogram binning 24\n",
      "Saving to disk fitted model for color channels: LUV spatial binning 32 and histogram binning 32\n",
      "Saving to disk fitted model for color channels: HLS spatial binning 8 and histogram binning 8\n",
      "Saving to disk fitted model for color channels: HLS spatial binning 8 and histogram binning 16\n",
      "Saving to disk fitted model for color channels: HLS spatial binning 8 and histogram binning 24\n",
      "Saving to disk fitted model for color channels: HLS spatial binning 8 and histogram binning 32\n",
      "Saving to disk fitted model for color channels: HLS spatial binning 16 and histogram binning 8\n",
      "Saving to disk fitted model for color channels: HLS spatial binning 16 and histogram binning 16\n",
      "Saving to disk fitted model for color channels: HLS spatial binning 16 and histogram binning 24\n",
      "Saving to disk fitted model for color channels: HLS spatial binning 16 and histogram binning 32\n",
      "Saving to disk fitted model for color channels: HLS spatial binning 24 and histogram binning 8\n",
      "Saving to disk fitted model for color channels: HLS spatial binning 24 and histogram binning 16\n",
      "Saving to disk fitted model for color channels: HLS spatial binning 24 and histogram binning 24\n",
      "Saving to disk fitted model for color channels: HLS spatial binning 24 and histogram binning 32\n",
      "Saving to disk fitted model for color channels: HLS spatial binning 32 and histogram binning 8\n",
      "Saving to disk fitted model for color channels: HLS spatial binning 32 and histogram binning 16\n",
      "Saving to disk fitted model for color channels: HLS spatial binning 32 and histogram binning 24\n",
      "Saving to disk fitted model for color channels: HLS spatial binning 32 and histogram binning 32\n",
      "Saving to disk fitted model for color channels: YUV spatial binning 8 and histogram binning 8\n",
      "Saving to disk fitted model for color channels: YUV spatial binning 8 and histogram binning 16\n",
      "Saving to disk fitted model for color channels: YUV spatial binning 8 and histogram binning 24\n",
      "Saving to disk fitted model for color channels: YUV spatial binning 8 and histogram binning 32\n",
      "Saving to disk fitted model for color channels: YUV spatial binning 16 and histogram binning 8\n",
      "Saving to disk fitted model for color channels: YUV spatial binning 16 and histogram binning 16\n",
      "Saving to disk fitted model for color channels: YUV spatial binning 16 and histogram binning 24\n",
      "Saving to disk fitted model for color channels: YUV spatial binning 16 and histogram binning 32\n",
      "Saving to disk fitted model for color channels: YUV spatial binning 24 and histogram binning 8\n",
      "Saving to disk fitted model for color channels: YUV spatial binning 24 and histogram binning 16\n",
      "Saving to disk fitted model for color channels: YUV spatial binning 24 and histogram binning 24\n",
      "Saving to disk fitted model for color channels: YUV spatial binning 24 and histogram binning 32\n",
      "Saving to disk fitted model for color channels: YUV spatial binning 32 and histogram binning 8\n",
      "Saving to disk fitted model for color channels: YUV spatial binning 32 and histogram binning 16\n",
      "Saving to disk fitted model for color channels: YUV spatial binning 32 and histogram binning 24\n",
      "Saving to disk fitted model for color channels: YUV spatial binning 32 and histogram binning 32\n"
     ]
    }
   ],
   "source": [
    "import pickle\n",
    "for model, (c, s, h) in zip(models, itertools.product(colors, spatial_grid, histbin_grid)):\n",
    "    print('Saving to disk fitted model for color channels:',c, 'spatial binning', s,'and histogram binning', h)\n",
    "    file_name = '-'.join((c, 's_bin_{:d}'.format(s), 'h_bin_{:d}'.format(h)))\n",
    "    file_name = '.'.join((file_name, 'pickle'))\n",
    "    pickle.dump(model, open('./svm/' + file_name, 'wb'))"
   ]
  },
  {
   "cell_type": "code",
   "execution_count": 85,
   "metadata": {
    "collapsed": true
   },
   "outputs": [],
   "source": [
    "BGR_perf = np.array(performance[0:16])\n",
    "HSV_perf = np.array(performance[16:32])\n",
    "LUV_perf = np.array(performance[32:48])\n",
    "HLS_perf = np.array(performance[48:64])\n",
    "YUV_perf = np.array(performance[64:80])"
   ]
  },
  {
   "cell_type": "code",
   "execution_count": 86,
   "metadata": {
    "collapsed": false
   },
   "outputs": [
    {
     "data": {
      "image/png": "[encoded data removed]",
      "text/plain": [
       "<matplotlib.figure.Figure at 0x7fae6ef89630>"
      ]
     },
     "metadata": {},
     "output_type": "display_data"
    }
   ],
   "source": [
    "fig, ax = plt.subplots(2,3)\n",
    "ax[0,0].contourf(spatial_grid, histbin_grid, BGR_perf.reshape(n, n))\n",
    "ax[0,1].contourf(spatial_grid, histbin_grid, HSV_perf.reshape(n, n))\n",
    "ax[0,2].contourf(spatial_grid, histbin_grid, LUV_perf.reshape(n, n))\n",
    "ax[1,0].contourf(spatial_grid, histbin_grid, HLS_perf.reshape(n, n))\n",
    "ax[1,1].contourf(spatial_grid, histbin_grid, YUV_perf.reshape(n, n))\n",
    "fig.set_size_inches(14,8)"
   ]
  },
  {
   "cell_type": "code",
   "execution_count": 87,
   "metadata": {
    "collapsed": false
   },
   "outputs": [
    {
     "name": "stdout",
     "output_type": "stream",
     "text": [
      "Best performace 0.939 is obtained using spatial binning of 16 and histogram binning of 32 in a LUV colorspace\n"
     ]
    }
   ],
   "source": [
    "best_perf = np.array(performance).argmax()\n",
    "best_s = x_plot[best_perf]\n",
    "best_h = y_plot[best_perf]\n",
    "best_color = colors[int(best_perf / (n * n))]\n",
    "print('Best performace', round(max(performance),3), 'is obtained using spatial binning of',\n",
    "      best_s, 'and histogram binning of', best_h, 'in a', best_color, 'colorspace')"
   ]
  },
  {
   "cell_type": "code",
   "execution_count": null,
   "metadata": {
    "collapsed": true
   },
   "outputs": [],
   "source": []
  }
 ],
 "metadata": {
  "anaconda-cloud": {},
  "kernelspec": {
   "display_name": "Python 3",
   "language": "python",
   "name": "python3"
  },
  "language_info": {
   "codemirror_mode": {
    "name": "ipython",
    "version": 3
   },
   "file_extension": ".py",
   "mimetype": "text/x-python",
   "name": "python",
   "nbconvert_exporter": "python",
   "pygments_lexer": "ipython3",
   "version": "3.5.2"
  },
  "widgets": {
   "state": {},
   "version": "1.1.2"
  }
 },
 "nbformat": 4,
 "nbformat_minor": 1
}
